{
 "cells": [
  {
   "cell_type": "markdown",
   "metadata": {},
   "source": [
    "# MNIST Handwriting Recognition\n",
    "\n",
    "The **MNIST** database of handwritten digits is one of the most common datasets used for image classification, as well as demonstration and trials of machine learning and pattern recognition techniques.\n",
    "The database contains 60,000 examples for training and 10,000 example for testing.\n",
    "The home of the database is located at [The MNIST Database of handwritten digits](http://yann.lecun.com/exdb/mnist/).\n",
    "\n",
    "`tensorflow.keras` package includes a series of commonly used datasets, including the MNIST database of handwritten digits.\n",
    "In this notebook, we acquire the training set and testing set of MNIST database of handwritten digits using `keras` and show how the data is arranged.\n"
   ]
  },
  {
   "cell_type": "markdown",
   "metadata": {},
   "source": [
    "## Acquire MNIST Dataset\n",
    "\n",
    "See [MNIST database of handwritten digits](https://keras.io/datasets/#mnist-database-of-handwritten-digits) section of **Keras** documentation for details."
   ]
  },
  {
   "cell_type": "code",
   "execution_count": 1,
   "metadata": {},
   "outputs": [],
   "source": [
    "from tensorflow.keras.datasets import mnist"
   ]
  },
  {
   "cell_type": "code",
   "execution_count": 2,
   "metadata": {},
   "outputs": [
    {
     "name": "stdout",
     "output_type": "stream",
     "text": [
      "Downloading data from https://storage.googleapis.com/tensorflow/tf-keras-datasets/mnist.npz\n",
      "11493376/11490434 [==============================] - 2s 0us/step\n"
     ]
    }
   ],
   "source": [
    "(x_train, y_train), (x_test, y_test) = mnist.load_data()"
   ]
  },
  {
   "cell_type": "code",
   "execution_count": 3,
   "metadata": {},
   "outputs": [
    {
     "name": "stdout",
     "output_type": "stream",
     "text": [
      "Training Set Data (X):  (60000, 28, 28)\n",
      "Training Set Labels (Y):  (60000,)\n",
      "Testing Set Data (X):  (10000, 28, 28)\n",
      "Testing Set Labels (Y):  (10000,)\n"
     ]
    }
   ],
   "source": [
    "print(\"Training Set Data (X): \", x_train.shape)\n",
    "print(\"Training Set Labels (Y): \", y_train.shape)\n",
    "print(\"Testing Set Data (X): \", x_test.shape)\n",
    "print(\"Testing Set Labels (Y): \", y_test.shape)"
   ]
  },
  {
   "cell_type": "markdown",
   "metadata": {},
   "source": [
    "As shown above, there are 60,000 images in the training set (`x_train`), where each image is represented as a 28-by-28 matrix.\n",
    "The corresponding labels are encapsulated in `y_train`.\n",
    "The following script plots the image and prints the corresponding label using `matplotlib`."
   ]
  },
  {
   "cell_type": "code",
   "execution_count": 4,
   "metadata": {},
   "outputs": [],
   "source": [
    "import matplotlib\n",
    "import matplotlib.pyplot as plt\n",
    "%matplotlib inline"
   ]
  },
  {
   "cell_type": "code",
   "execution_count": 6,
   "metadata": {},
   "outputs": [
    {
     "data": {
      "image/png": "[encoded data removed]",
      "text/plain": [
       "<Figure size 432x288 with 1 Axes>"
      ]
     },
     "metadata": {
      "needs_background": "light"
     },
     "output_type": "display_data"
    },
    {
     "data": {
      "image/png": "[encoded data removed]",
      "text/plain": [
       "<Figure size 432x288 with 1 Axes>"
      ]
     },
     "metadata": {
      "needs_background": "light"
     },
     "output_type": "display_data"
    },
    {
     "data": {
      "image/png": "[encoded data removed]",
      "text/plain": [
       "<Figure size 432x288 with 1 Axes>"
      ]
     },
     "metadata": {
      "needs_background": "light"
     },
     "output_type": "display_data"
    }
   ],
   "source": [
    "for i in range(3):\n",
    "    plt.figure()\n",
    "    img = x_train[i, :, :]\n",
    "    plt.title(\"Label: %d\" % y_train[i])\n",
    "    plt.imshow(img, cmap=\"gray\")\n",
    "    plt.show()"
   ]
  }
 ],
 "metadata": {
  "kernelspec": {
   "display_name": "Python 3",
   "language": "python",
   "name": "python3"
  },
  "language_info": {
   "codemirror_mode": {
    "name": "ipython",
    "version": 3
   },
   "file_extension": ".py",
   "mimetype": "text/x-python",
   "name": "python",
   "nbconvert_exporter": "python",
   "pygments_lexer": "ipython3",
   "version": "3.7.1"
  }
 },
 "nbformat": 4,
 "nbformat_minor": 2
}
